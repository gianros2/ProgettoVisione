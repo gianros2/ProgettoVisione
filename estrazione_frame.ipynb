{
 "cells": [
  {
   "cell_type": "code",
   "execution_count": null,
   "metadata": {},
   "outputs": [],
   "source": [
    "import os\n",
    "import cv2"
   ]
  },
  {
   "cell_type": "code",
   "execution_count": null,
   "metadata": {
    "colab": {
     "base_uri": "https://localhost:8080/"
    },
    "executionInfo": {
     "elapsed": 3953,
     "status": "ok",
     "timestamp": 1654853466306,
     "user": {
      "displayName": "Dario Miseo",
      "userId": "02133159972550235263"
     },
     "user_tz": -120
    },
    "id": "9FMrYpNxQooI",
    "outputId": "c65121d7-658c-4f82-ad4e-dbfa35b9c260"
   },
   "outputs": [],
   "source": [
    "#Mount di gdrive\n",
    "from google.colab import drive\n",
    "print('Connecting to Drive....')\n",
    "drive.mount('/content/gdrive')"
   ]
  },
  {
   "cell_type": "code",
   "execution_count": null,
   "metadata": {
    "colab": {
     "base_uri": "https://localhost:8080/"
    },
    "executionInfo": {
     "elapsed": 151740,
     "status": "ok",
     "timestamp": 1654853708519,
     "user": {
      "displayName": "Dario Miseo",
      "userId": "02133159972550235263"
     },
     "user_tz": -120
    },
    "id": "wJCd5jSSQg_E",
    "outputId": "b6c43df0-22c5-44c5-bc08-022939ad230a"
   },
   "outputs": [],
   "source": [
    "input_path = \"input path contenente i video\"\n",
    "output_path = \"output path che conterrà i frame estratti\"\n",
    "videos = []\n",
    "#Ogni tupla corrisponde ai timecode da estrarre per ogni video\n",
    "times = ((14, 19, 23, 28), (46, 54, 73, 81), (96, 102))\n",
    "\n",
    "#Scansiona la cartella alla ricerca dei file mp4\n",
    "for (path, dirs, files) in os.walk(input_path, topdown=True):\n",
    "    for filename in files:\n",
    "        if '.mp4' in filename:\n",
    "            videos.append(input_path + filename)\n",
    "            \n",
    "#Ordina in modo crescente i nomi dei video aggiunti alla lista videos          \n",
    "videos.sort(key=lambda x: int(''.join(filter(str.isdigit, x))))\n",
    "\n",
    "#Scansiona ogni video ed estrae i frame in base al tempo\n",
    "name_count = 0\n",
    "for i, video in enumerate(videos):\n",
    "    # print(\"Inizio elaborazione video : \" + str(i))\n",
    "    for j in range(0, len(times[i]), 2):\n",
    "        count = 0\n",
    "        time_single = times[i]\n",
    "        start_time_ms = time_single[j] * 1000\n",
    "        stop_time_ms = time_single[j+1] * 1000\n",
    "        success = True\n",
    "        vidcap = cv2.VideoCapture(video)\n",
    "\n",
    "        fps = vidcap.get(cv2.CAP_PROP_FPS)\n",
    "        # print(\"Saltiamo i frame in base alla lunghezza del video /5\")\n",
    "        frame_skip = fps // 5\n",
    "        vidcap.set(cv2.CAP_PROP_POS_FRAMES, time_single[j] * fps)\n",
    "\n",
    "        while success and vidcap.get(cv2.CAP_PROP_POS_MSEC) <= stop_time_ms:\n",
    "            success, image = vidcap.read()\n",
    "            # print('Read a new frame: ', success)\n",
    "            if count % frame_skip == 0:\n",
    "                cv2.imwrite(output_path + \"/frame%d.jpg\" % name_count, image)\n",
    "            count += 1\n",
    "            name_count += 1\n",
    "\n",
    "        vidcap.release()\n",
    "        cv2.destroyAllWindows()\n",
    "\n",
    "    print(\"Video numero %i terminato\" % i)\n",
    "\n",
    "print(\"Fine\")"
   ]
  },
  {
   "cell_type": "code",
   "execution_count": null,
   "metadata": {
    "executionInfo": {
     "elapsed": 2,
     "status": "ok",
     "timestamp": 1654853708520,
     "user": {
      "displayName": "Dario Miseo",
      "userId": "02133159972550235263"
     },
     "user_tz": -120
    },
    "id": "wLc-2YZeXjNi"
   },
   "outputs": [],
   "source": [
    "#fps = vidcap.get(cv2.CAP_PROP_FPS)\n",
    "#vidcap.set(cv2.CAP_PROP_POS_FRAMES, time_single[j] * fps)\n",
    "\n",
    "#while success and vidcap.get(cv2.CAP_PROP_POS_MSEC) < start_time_ms:\n",
    "#   success, image = vidcap.read()"
   ]
  }
 ],
 "metadata": {
  "colab": {
   "collapsed_sections": [],
   "name": "nuovoAlgoEstrazione.ipynb",
   "provenance": []
  },
  "kernelspec": {
   "display_name": "Python 3 (ipykernel)",
   "language": "python",
   "name": "python3"
  },
  "language_info": {
   "codemirror_mode": {
    "name": "ipython",
    "version": 3
   },
   "file_extension": ".py",
   "mimetype": "text/x-python",
   "name": "python",
   "nbconvert_exporter": "python",
   "pygments_lexer": "ipython3",
   "version": "3.9.12"
  }
 },
 "nbformat": 4,
 "nbformat_minor": 1
}
