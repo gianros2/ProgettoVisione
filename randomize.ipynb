{
 "cells": [
  {
   "cell_type": "code",
   "execution_count": null,
   "id": "a2b09e55",
   "metadata": {},
   "outputs": [],
   "source": [
    "import os\n",
    "import shutil\n",
    "import random\n",
    "import cv2\n",
    "\n",
    "def creaDirectory():\n",
    "    for f in folders:\n",
    "        os.makedirs(f, exist_ok=True)\n",
    "\n",
    "path = 'path contenente i frames'\n",
    "#Creiamo 5 cartelle con i nomi specificati nella variabile folders\n",
    "folders = ('Dario', 'Gianni', 'Rocco', 'cv', 'test')\n",
    "creaDirectory()\n",
    "#Specifichiamo quante immagini selezionare (in questo caso 100)\n",
    "n = 100\n",
    "\n",
    "#Copiamo all'interno di ogni cartella n (100) .jpg casuali contenuti in frames\n",
    "for f in folders:\n",
    "    files = os.listdir(path)\n",
    "    for file_name in random.sample(files, n):\n",
    "        shutil.move(os.path.join(path, file_name), f)"
   ]
  }
 ],
 "metadata": {
  "kernelspec": {
   "display_name": "Python 3 (ipykernel)",
   "language": "python",
   "name": "python3"
  },
  "language_info": {
   "codemirror_mode": {
    "name": "ipython",
    "version": 3
   },
   "file_extension": ".py",
   "mimetype": "text/x-python",
   "name": "python",
   "nbconvert_exporter": "python",
   "pygments_lexer": "ipython3",
   "version": "3.9.12"
  }
 },
 "nbformat": 4,
 "nbformat_minor": 5
}
