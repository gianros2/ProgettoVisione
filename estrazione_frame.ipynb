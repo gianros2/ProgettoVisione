{
 "cells": [
  {
   "cell_type": "code",
   "execution_count": null,
   "metadata": {
    "colab": {
     "base_uri": "https://localhost:8080/"
    },
    "id": "862k8J0RIVVp",
    "outputId": "802400fe-c230-45c2-e3b5-b4a12634afff"
   },
   "outputs": [],
   "source": [
    "from google.colab import drive\n",
    "print('Connecting to Drive....')\n",
    "drive.mount('/content/gdrive')\n",
    "%cd /content/gdrive/MyDrive/Progetto_VeP/videos/\n",
    "print('Done!!!')"
   ]
  },
  {
   "cell_type": "code",
   "execution_count": null,
   "metadata": {
    "id": "PMjmPhA6FDQk"
   },
   "outputs": [],
   "source": [
    "import os\n",
    "import cv2\n",
    "from pathlib import Path"
   ]
  },
  {
   "cell_type": "code",
   "execution_count": null,
   "metadata": {
    "id": "sfvITkm9FTGK"
   },
   "outputs": [],
   "source": [
    "# Lista dei video\n",
    "for root, dir, files in os.walk(os.getcwd()):\n",
    "  for f in files:\n",
    "    if f.endswith(\".mp4\"):\n",
    "      videos = [f for f in files]\n",
    "times = [[13,20,24,29],[46,54,73,81],[96,102],[95,102],\\\n",
    "         [67,74],[30,36],[100,106],[69,76],\\\n",
    "         [12,21],[25,32],[25,29,75,81],[44,49,81,85],\\\n",
    "         [84,90],[59,66],[90,96],[85,90],\\\n",
    "         [14,19],[47,57,90,102],[82,90,99,113],[27,34,90,105],\\\n",
    "         [90,110],[53,62]]"
   ]
  },
  {
   "cell_type": "code",
   "execution_count": null,
   "metadata": {
    "colab": {
     "base_uri": "https://localhost:8080/",
     "height": 1000
    },
    "id": "NRHNLKu3GDtb",
    "outputId": "a29aafac-2bf6-48b5-e190-bc7533c483e6"
   },
   "outputs": [],
   "source": [
    "#Estrazione delle porzioni d'interesse\n",
    "for v in range(len(videos)):\n",
    "  %cd /content/gdrive/MyDrive/Progetto_VeP/videos\n",
    "  vidcap = cv2.VideoCapture(videos[v])\n",
    "  success,image = vidcap.read()\n",
    "  count = 0\n",
    "  count_frame = 0\n",
    "  count_t = 0\n",
    "  count_v = 0\n",
    "  fps = vidcap.get(cv2.CAP_PROP_FPS)\n",
    "  #file_path = \"/content/gdrive/MyDrive/Progetto_VeP/test\" + videos[v]\n",
    "  file_name = Path(videos[v]).stem\n",
    "  start_frame = times[v][count_t]*fps\n",
    "  end_frame = times[v][count_t+1]*fps\n",
    "  vidcap.set(cv2.CAP_PROP_POS_FRAMES,start_frame)\n",
    "  %cd /content/gdrive/MyDrive/Progetto_VeP/test\n",
    "  while(count_t < len(times[v])):\n",
    "    while success and vidcap.get(cv2.CAP_PROP_POS_FRAMES) <= end_frame:\n",
    "      cv2.imwrite(file_name+\"frame %d.jpg\" % count, image)     # save frame as JPEG file      \n",
    "      success,image = vidcap.read()\n",
    "      print('Read a new frame: ', success)\n",
    "      count += 1\n",
    "      if (fps > 30 ):\n",
    "        count_frame +=10\n",
    "      else:\n",
    "       count_frame += 5\n",
    "      vidcap.set(cv2.CAP_PROP_POS_FRAMES,start_frame+count_frame+count_v)\n",
    "      if len(times[v]) > 2:\n",
    "        count_v += 1\n",
    "    count_t += 2\n"
   ]
  }
 ],
 "metadata": {
  "colab": {
   "name": "Frame Extractor.ipynb",
   "provenance": []
  },
  "kernelspec": {
   "display_name": "Python 3 (ipykernel)",
   "language": "python",
   "name": "python3"
  },
  "language_info": {
   "codemirror_mode": {
    "name": "ipython",
    "version": 3
   },
   "file_extension": ".py",
   "mimetype": "text/x-python",
   "name": "python",
   "nbconvert_exporter": "python",
   "pygments_lexer": "ipython3",
   "version": "3.9.12"
  }
 },
 "nbformat": 4,
 "nbformat_minor": 1
}
